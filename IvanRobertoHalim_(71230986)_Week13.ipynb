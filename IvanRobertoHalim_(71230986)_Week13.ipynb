{
  "nbformat": 4,
  "nbformat_minor": 0,
  "metadata": {
    "colab": {
      "provenance": []
    },
    "kernelspec": {
      "name": "python3",
      "display_name": "Python 3"
    },
    "language_info": {
      "name": "python"
    }
  },
  "cells": [
    {
      "cell_type": "code",
      "execution_count": 1,
      "metadata": {
        "colab": {
          "base_uri": "https://localhost:8080/"
        },
        "id": "eWt272-laJCC",
        "outputId": "1e670678-799e-44fa-9254-f517fa0e9859"
      },
      "outputs": [
        {
          "output_type": "stream",
          "name": "stdout",
          "text": [
            "Masukkan jumlah kategori : 3\n",
            "Masukkan nama kategori : Internet\n",
            "Masukkan 5 nama aplikasi di kategori Internet\n",
            "Nama aplikasi : Chrome\n",
            "Nama aplikasi : Youtube\n",
            "Nama aplikasi : X\n",
            "Nama aplikasi : Instagram\n",
            "Nama aplikasi : Facebook\n",
            "Masukkan nama kategori : Social\n",
            "Masukkan 5 nama aplikasi di kategori Social\n",
            "Nama aplikasi : WA\n",
            "Nama aplikasi : Instagram\n",
            "Nama aplikasi : Telegram\n",
            "Nama aplikasi : Line\n",
            "Nama aplikasi : Email\n",
            "Masukkan nama kategori : Fun\n",
            "Masukkan 5 nama aplikasi di kategori Fun\n",
            "Nama aplikasi : ML\n",
            "Nama aplikasi : PUBG\n",
            "Nama aplikasi : Instagram\n",
            "Nama aplikasi : Youtube\n",
            "Nama aplikasi : FF\n",
            "{'Internet': ['Chrome', 'Youtube', 'X', 'Instagram', 'Facebook'], 'Social': ['WA', 'Instagram', 'Telegram', 'Line', 'Email'], 'Fun': ['ML', 'PUBG', 'Instagram', 'Youtube', 'FF']}\n",
            "[{'Chrome', 'Youtube', 'Instagram', 'Facebook', 'X'}, {'Line', 'Email', 'Telegram', 'WA', 'Instagram'}, {'PUBG', 'FF', 'Youtube', 'Instagram', 'ML'}]\n",
            "Aplikasi yang muncul di semua kategori : {'Instagram'}\n",
            "Aplikasi yang hanya muncul di satu kategori : {'Line', 'PUBG', 'Email', 'Chrome', 'Telegram', 'FF', 'WA', 'Facebook', 'ML', 'X'}\n",
            "Aplikasi yang muncul tepat di dua kategori: {'Youtube'}\n"
          ]
        }
      ],
      "source": [
        "#Soal 1\n",
        "\n",
        "n = int(input(\"Masukkan jumlah kategori : \"))\n",
        "data_aplikasi = {}\n",
        "\n",
        "for i in range(n):\n",
        "    nama_kategori = input(\"Masukkan nama kategori : \")\n",
        "    print(\"Masukkan 5 nama aplikasi di kategori\", nama_kategori)\n",
        "    aplikasi = []\n",
        "\n",
        "    for j in range(5):\n",
        "        nama_aplikasi = input('Nama aplikasi : ')\n",
        "        aplikasi.append(nama_aplikasi)\n",
        "\n",
        "    data_aplikasi[nama_kategori] = aplikasi\n",
        "\n",
        "print(data_aplikasi)\n",
        "daftar_aplikasi_list = []\n",
        "\n",
        "for aplikasi in data_aplikasi.values():\n",
        "    daftar_aplikasi_list.append(set(aplikasi))\n",
        "\n",
        "print(daftar_aplikasi_list)\n",
        "\n",
        "hasil = daftar_aplikasi_list[0]\n",
        "\n",
        "for i in range(1, len(daftar_aplikasi_list)):\n",
        "    hasil = hasil & daftar_aplikasi_list[i]\n",
        "\n",
        "print(f\"Aplikasi yang muncul di semua kategori : {hasil}\")\n",
        "\n",
        "aplikasi_semua = set()\n",
        "for aplikasi_set in daftar_aplikasi_list:\n",
        "    aplikasi_semua = aplikasi_semua.union(aplikasi_set)\n",
        "\n",
        "aplikasi_satu_kategori = set()\n",
        "for aplikasi in aplikasi_semua:\n",
        "    count = 0\n",
        "    for aplikasi_set in daftar_aplikasi_list:\n",
        "        if aplikasi in aplikasi_set:\n",
        "            count += 1\n",
        "    if count == 1:\n",
        "        aplikasi_satu_kategori.add(aplikasi)\n",
        "\n",
        "print(f\"Aplikasi yang hanya muncul di satu kategori : {aplikasi_satu_kategori}\")\n",
        "\n",
        "if n > 2:\n",
        "    aplikasi_dua_kategori = set()\n",
        "    for aplikasi in aplikasi_semua:\n",
        "        count = 0\n",
        "        for aplikasi_set in daftar_aplikasi_list:\n",
        "            if aplikasi in aplikasi_set:\n",
        "                count += 1\n",
        "        if count == 2:\n",
        "            aplikasi_dua_kategori.add(aplikasi)\n",
        "\n",
        "    print(f\"Aplikasi yang muncul tepat di dua kategori: {aplikasi_dua_kategori}\")"
      ]
    },
    {
      "cell_type": "code",
      "source": [
        "#Soal 2\n",
        "\n",
        "ini_list = [1,2,1,2,1,2,1,2]\n",
        "jadi_set = set(ini_list)\n",
        "print(f\"Isi data sebelum konversi List menjadi Set : {ini_list}\")\n",
        "print(f\"Isi data setelah konversi List menjadi Set : {jadi_set}\")\n",
        "print()\n",
        "\n",
        "ini_set = {1,2,3,4,5,6,7,8,9}\n",
        "jadi_list = list(ini_set)\n",
        "print(f\"Isi data sebelum konversi Set menjadi List : {ini_set}\")\n",
        "print(f\"Isi data setelah konversi Set menjadi List : {jadi_list}\")\n",
        "print()\n",
        "\n",
        "ini_tuple = (1,2,1,2,1,2,1,2)\n",
        "jadi_set = set(ini_tuple)\n",
        "print(f\"Isi data sebelum konversi Tuple menjadi Set : {ini_tuple}\")\n",
        "print(f\"Isi data setelah konversi Tuple menjadi Set : {jadi_set}\")\n",
        "print()\n",
        "\n",
        "ini_set = {1,2,3,4,5,6,7,8,9}\n",
        "jadi_tuple = tuple(ini_set)\n",
        "print(f\"Isi data sebelum konversi Set menjadi Tuple : {ini_set}\")\n",
        "print(f\"Isi data setelah konversi Set menjadi Tuple : {jadi_tuple}\")"
      ],
      "metadata": {
        "colab": {
          "base_uri": "https://localhost:8080/"
        },
        "id": "kjc1xkLMa72H",
        "outputId": "6829df4f-bccf-4888-8b2e-7abedd0cc27c"
      },
      "execution_count": 2,
      "outputs": [
        {
          "output_type": "stream",
          "name": "stdout",
          "text": [
            "Isi data sebelum konversi List menjadi Set : [1, 2, 1, 2, 1, 2, 1, 2]\n",
            "Isi data setelah konversi List menjadi Set : {1, 2}\n",
            "\n",
            "Isi data sebelum konversi Set menjadi List : {1, 2, 3, 4, 5, 6, 7, 8, 9}\n",
            "Isi data setelah konversi Set menjadi List : [1, 2, 3, 4, 5, 6, 7, 8, 9]\n",
            "\n",
            "Isi data sebelum konversi Tuple menjadi Set : (1, 2, 1, 2, 1, 2, 1, 2)\n",
            "Isi data setelah konversi Tuple menjadi Set : {1, 2}\n",
            "\n",
            "Isi data sebelum konversi Set menjadi Tuple : {1, 2, 3, 4, 5, 6, 7, 8, 9}\n",
            "Isi data setelah konversi Set menjadi Tuple : (1, 2, 3, 4, 5, 6, 7, 8, 9)\n"
          ]
        }
      ]
    }
  ]
}